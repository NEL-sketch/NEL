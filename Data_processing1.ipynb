{
 "cells": [
  {
   "cell_type": "markdown",
   "metadata": {},
   "source": [
    "# <font color =\"blue\">\"Data processing\"</font>"
   ]
  },
  {
   "cell_type": "code",
   "execution_count": 1,
   "metadata": {},
   "outputs": [
    {
     "name": "stdout",
     "output_type": "stream",
     "text": [
      "['facebook', 0.0, 24673862, 'USD', 3.5]\n"
     ]
    },
    {
     "data": {
      "text/plain": [
       "list"
      ]
     },
     "execution_count": 1,
     "metadata": {},
     "output_type": "execute_result"
    }
   ],
   "source": [
    "import pandas as pd\n",
    "import numpy as np\n",
    "# combining/writing diferent forms of data together (str, float and integer)\n",
    "row_1 = ['facebook', 0.0, 24673862, 'USD', 3.5]\n",
    "print(row_1)\n",
    "\n",
    "# to know the type of data\n",
    "type(row_1)"
   ]
  },
  {
   "cell_type": "code",
   "execution_count": 2,
   "metadata": {},
   "outputs": [
    {
     "name": "stdout",
     "output_type": "stream",
     "text": [
      "5\n",
      "facebook\n",
      "0.0\n",
      "24673862\n",
      "USD\n",
      "3.5\n"
     ]
    }
   ],
   "source": [
    "# to know the length of the data\n",
    "print(len(row_1))\n",
    "\n",
    "# to retieve an element from a list of data/elements using the index number\n",
    "print(row_1[0])\n",
    "print(row_1[1])\n",
    "print(row_1[2])\n",
    "print(row_1[3])\n",
    "print(row_1[4])\n",
    "\n",
    "# negative indexing\n",
    "# print(row_1[-2])"
   ]
  },
  {
   "cell_type": "code",
   "execution_count": 3,
   "metadata": {},
   "outputs": [
    {
     "name": "stdout",
     "output_type": "stream",
     "text": [
      "1.0\n",
      "4.0\n"
     ]
    }
   ],
   "source": [
    "# performing calculation \n",
    "row_1 = ['facebook', 0.0, 24673862, 'USD', 3.5]\n",
    "row_2 = ['Instagram', 0.0, 21356785, 'USD', 4.5]\n",
    "\n",
    "difference = row_2[4] - row_1[4]\n",
    "Average_rating = (row_1[4] + row_2[4]) / 2\n",
    "\n",
    "print(difference)\n",
    "print(Average_rating)"
   ]
  },
  {
   "cell_type": "code",
   "execution_count": 4,
   "metadata": {},
   "outputs": [
    {
     "name": "stdout",
     "output_type": "stream",
     "text": [
      "3\n",
      "6\n",
      "8\n",
      "9\n",
      "10\n"
     ]
    }
   ],
   "source": [
    "# how to use 'for loop'\n",
    "a_list = [3, 6, 8, 9, 10] \n",
    "for value in a_list:\n",
    "    print(value) \n",
    "#     print(value - 1)"
   ]
  },
  {
   "cell_type": "code",
   "execution_count": 4,
   "metadata": {},
   "outputs": [
    {
     "name": "stdout",
     "output_type": "stream",
     "text": [
      "2\n",
      "3\n",
      "6\n"
     ]
    }
   ],
   "source": [
    "# creating a for loop\n",
    "b_list = [3, 4, 7]\n",
    "for values in b_list:\n",
    "    print(values - 1)\n"
   ]
  },
  {
   "cell_type": "markdown",
   "metadata": {},
   "source": [
    "# <font color =\"green\">\"Writing a for loop\"</font>"
   ]
  },
  {
   "cell_type": "code",
   "execution_count": null,
   "metadata": {},
   "outputs": [],
   "source": [
    "# for low making summation of numbers in the array\n",
    "b_list = [2, 5, 7, 10]\n",
    "b_sum  = 0\n",
    "for values in b_list:\n",
    "    b_sum = b_sum + values\n",
    "    print(b_sum)"
   ]
  },
  {
   "cell_type": "code",
   "execution_count": 7,
   "metadata": {},
   "outputs": [
    {
     "name": "stdout",
     "output_type": "stream",
     "text": [
      "1\n"
     ]
    }
   ],
   "source": [
    "# import math\n",
    "# import time\n",
    "# % sign give you the reminder after division\n",
    "a = 1\n",
    "b = 5\n",
    "c = 5\n",
    "\n",
    "d = a % c\n",
    "print(d)\n"
   ]
  },
  {
   "cell_type": "markdown",
   "metadata": {},
   "source": [
    "# <font color =\"green\">\"Generating prime numbers between a range of number\"</font>"
   ]
  },
  {
   "cell_type": "code",
   "execution_count": null,
   "metadata": {},
   "outputs": [],
   "source": [
    "# to print prime numbers between 2 and 50\n",
    "primes = []\n",
    "numbers =list(range(2,50))\n",
    "while len(numbers) > 0:\n",
    "    prime = numbers[0]\n",
    "    primes.append(prime)\n",
    "    numbers = numbers[1:]\n",
    "    for x in numbers[:]:\n",
    "        if (x%prime) == 0:\n",
    "            numbers.remove(x)\n",
    "print(primes)"
   ]
  },
  {
   "cell_type": "markdown",
   "metadata": {},
   "source": [
    "# <font color =\"green\">file reading</font>"
   ]
  },
  {
   "cell_type": "code",
   "execution_count": 46,
   "metadata": {},
   "outputs": [
    {
     "data": {
      "text/plain": [
       "801"
      ]
     },
     "execution_count": 46,
     "metadata": {},
     "output_type": "execute_result"
    }
   ],
   "source": [
    "opened_file = open (\"./first_reading/pokemon_data.csv\")\n",
    "opened_file\n",
    "\n",
    "from csv import reader\n",
    "read_file = reader(opened_file)\n",
    "read_file\n",
    "apps_data = list(read_file)\n",
    "\n",
    "# print(apps_data)\n",
    "\n",
    "len(apps_data)"
   ]
  },
  {
   "cell_type": "markdown",
   "metadata": {},
   "source": [
    "# <font color =\"green\"> Data frame</font>"
   ]
  },
  {
   "cell_type": "code",
   "execution_count": 54,
   "metadata": {},
   "outputs": [
    {
     "data": {
      "text/html": [
       "<div>\n",
       "<style scoped>\n",
       "    .dataframe tbody tr th:only-of-type {\n",
       "        vertical-align: middle;\n",
       "    }\n",
       "\n",
       "    .dataframe tbody tr th {\n",
       "        vertical-align: top;\n",
       "    }\n",
       "\n",
       "    .dataframe thead th {\n",
       "        text-align: right;\n",
       "    }\n",
       "</style>\n",
       "<table border=\"1\" class=\"dataframe\">\n",
       "  <thead>\n",
       "    <tr style=\"text-align: right;\">\n",
       "      <th></th>\n",
       "      <th>#</th>\n",
       "      <th>Name</th>\n",
       "      <th>Type 1</th>\n",
       "      <th>Type 2</th>\n",
       "      <th>HP</th>\n",
       "      <th>Attack</th>\n",
       "      <th>Defense</th>\n",
       "      <th>Sp. Atk</th>\n",
       "      <th>Sp. Def</th>\n",
       "      <th>Speed</th>\n",
       "      <th>Generation</th>\n",
       "      <th>Legendary</th>\n",
       "      <th>Total</th>\n",
       "    </tr>\n",
       "  </thead>\n",
       "  <tbody>\n",
       "    <tr>\n",
       "      <th>0</th>\n",
       "      <td>1</td>\n",
       "      <td>Bulbasaur</td>\n",
       "      <td>Grass</td>\n",
       "      <td>Poison</td>\n",
       "      <td>45</td>\n",
       "      <td>49</td>\n",
       "      <td>49</td>\n",
       "      <td>65</td>\n",
       "      <td>65</td>\n",
       "      <td>45</td>\n",
       "      <td>1</td>\n",
       "      <td>False</td>\n",
       "      <td>318</td>\n",
       "    </tr>\n",
       "    <tr>\n",
       "      <th>1</th>\n",
       "      <td>2</td>\n",
       "      <td>Ivysaur</td>\n",
       "      <td>Grass</td>\n",
       "      <td>Poison</td>\n",
       "      <td>60</td>\n",
       "      <td>62</td>\n",
       "      <td>63</td>\n",
       "      <td>80</td>\n",
       "      <td>80</td>\n",
       "      <td>60</td>\n",
       "      <td>1</td>\n",
       "      <td>False</td>\n",
       "      <td>405</td>\n",
       "    </tr>\n",
       "    <tr>\n",
       "      <th>2</th>\n",
       "      <td>3</td>\n",
       "      <td>Venusaur</td>\n",
       "      <td>Grass</td>\n",
       "      <td>Poison</td>\n",
       "      <td>80</td>\n",
       "      <td>82</td>\n",
       "      <td>83</td>\n",
       "      <td>100</td>\n",
       "      <td>100</td>\n",
       "      <td>80</td>\n",
       "      <td>1</td>\n",
       "      <td>False</td>\n",
       "      <td>525</td>\n",
       "    </tr>\n",
       "    <tr>\n",
       "      <th>3</th>\n",
       "      <td>3</td>\n",
       "      <td>VenusaurMega Venusaur</td>\n",
       "      <td>Grass</td>\n",
       "      <td>Poison</td>\n",
       "      <td>80</td>\n",
       "      <td>100</td>\n",
       "      <td>123</td>\n",
       "      <td>122</td>\n",
       "      <td>120</td>\n",
       "      <td>80</td>\n",
       "      <td>1</td>\n",
       "      <td>False</td>\n",
       "      <td>625</td>\n",
       "    </tr>\n",
       "    <tr>\n",
       "      <th>4</th>\n",
       "      <td>4</td>\n",
       "      <td>Charmander</td>\n",
       "      <td>Fire</td>\n",
       "      <td>NaN</td>\n",
       "      <td>39</td>\n",
       "      <td>52</td>\n",
       "      <td>43</td>\n",
       "      <td>60</td>\n",
       "      <td>50</td>\n",
       "      <td>65</td>\n",
       "      <td>1</td>\n",
       "      <td>False</td>\n",
       "      <td>309</td>\n",
       "    </tr>\n",
       "    <tr>\n",
       "      <th>5</th>\n",
       "      <td>5</td>\n",
       "      <td>Charmeleon</td>\n",
       "      <td>Fire</td>\n",
       "      <td>NaN</td>\n",
       "      <td>58</td>\n",
       "      <td>64</td>\n",
       "      <td>58</td>\n",
       "      <td>80</td>\n",
       "      <td>65</td>\n",
       "      <td>80</td>\n",
       "      <td>1</td>\n",
       "      <td>False</td>\n",
       "      <td>405</td>\n",
       "    </tr>\n",
       "    <tr>\n",
       "      <th>6</th>\n",
       "      <td>6</td>\n",
       "      <td>Charizard</td>\n",
       "      <td>Fire</td>\n",
       "      <td>Flying</td>\n",
       "      <td>78</td>\n",
       "      <td>84</td>\n",
       "      <td>78</td>\n",
       "      <td>109</td>\n",
       "      <td>85</td>\n",
       "      <td>100</td>\n",
       "      <td>1</td>\n",
       "      <td>False</td>\n",
       "      <td>534</td>\n",
       "    </tr>\n",
       "    <tr>\n",
       "      <th>7</th>\n",
       "      <td>6</td>\n",
       "      <td>CharizardMega Charizard X</td>\n",
       "      <td>Fire</td>\n",
       "      <td>Dragon</td>\n",
       "      <td>78</td>\n",
       "      <td>130</td>\n",
       "      <td>111</td>\n",
       "      <td>130</td>\n",
       "      <td>85</td>\n",
       "      <td>100</td>\n",
       "      <td>1</td>\n",
       "      <td>False</td>\n",
       "      <td>634</td>\n",
       "    </tr>\n",
       "    <tr>\n",
       "      <th>8</th>\n",
       "      <td>6</td>\n",
       "      <td>CharizardMega Charizard Y</td>\n",
       "      <td>Fire</td>\n",
       "      <td>Flying</td>\n",
       "      <td>78</td>\n",
       "      <td>104</td>\n",
       "      <td>78</td>\n",
       "      <td>159</td>\n",
       "      <td>115</td>\n",
       "      <td>100</td>\n",
       "      <td>1</td>\n",
       "      <td>False</td>\n",
       "      <td>634</td>\n",
       "    </tr>\n",
       "    <tr>\n",
       "      <th>9</th>\n",
       "      <td>7</td>\n",
       "      <td>Squirtle</td>\n",
       "      <td>Water</td>\n",
       "      <td>NaN</td>\n",
       "      <td>44</td>\n",
       "      <td>48</td>\n",
       "      <td>65</td>\n",
       "      <td>50</td>\n",
       "      <td>64</td>\n",
       "      <td>43</td>\n",
       "      <td>1</td>\n",
       "      <td>False</td>\n",
       "      <td>314</td>\n",
       "    </tr>\n",
       "    <tr>\n",
       "      <th>10</th>\n",
       "      <td>8</td>\n",
       "      <td>Wartortle</td>\n",
       "      <td>Water</td>\n",
       "      <td>NaN</td>\n",
       "      <td>59</td>\n",
       "      <td>63</td>\n",
       "      <td>80</td>\n",
       "      <td>65</td>\n",
       "      <td>80</td>\n",
       "      <td>58</td>\n",
       "      <td>1</td>\n",
       "      <td>False</td>\n",
       "      <td>405</td>\n",
       "    </tr>\n",
       "    <tr>\n",
       "      <th>11</th>\n",
       "      <td>9</td>\n",
       "      <td>Blastoise</td>\n",
       "      <td>Water</td>\n",
       "      <td>NaN</td>\n",
       "      <td>79</td>\n",
       "      <td>83</td>\n",
       "      <td>100</td>\n",
       "      <td>85</td>\n",
       "      <td>105</td>\n",
       "      <td>78</td>\n",
       "      <td>1</td>\n",
       "      <td>False</td>\n",
       "      <td>530</td>\n",
       "    </tr>\n",
       "    <tr>\n",
       "      <th>12</th>\n",
       "      <td>9</td>\n",
       "      <td>BlastoiseMega Blastoise</td>\n",
       "      <td>Water</td>\n",
       "      <td>NaN</td>\n",
       "      <td>79</td>\n",
       "      <td>103</td>\n",
       "      <td>120</td>\n",
       "      <td>135</td>\n",
       "      <td>115</td>\n",
       "      <td>78</td>\n",
       "      <td>1</td>\n",
       "      <td>False</td>\n",
       "      <td>630</td>\n",
       "    </tr>\n",
       "    <tr>\n",
       "      <th>13</th>\n",
       "      <td>10</td>\n",
       "      <td>Caterpie</td>\n",
       "      <td>Bug</td>\n",
       "      <td>NaN</td>\n",
       "      <td>45</td>\n",
       "      <td>30</td>\n",
       "      <td>35</td>\n",
       "      <td>20</td>\n",
       "      <td>20</td>\n",
       "      <td>45</td>\n",
       "      <td>1</td>\n",
       "      <td>False</td>\n",
       "      <td>195</td>\n",
       "    </tr>\n",
       "    <tr>\n",
       "      <th>14</th>\n",
       "      <td>11</td>\n",
       "      <td>Metapod</td>\n",
       "      <td>Bug</td>\n",
       "      <td>NaN</td>\n",
       "      <td>50</td>\n",
       "      <td>20</td>\n",
       "      <td>55</td>\n",
       "      <td>25</td>\n",
       "      <td>25</td>\n",
       "      <td>30</td>\n",
       "      <td>1</td>\n",
       "      <td>False</td>\n",
       "      <td>205</td>\n",
       "    </tr>\n",
       "  </tbody>\n",
       "</table>\n",
       "</div>"
      ],
      "text/plain": [
       "     #                       Name Type 1  Type 2  HP  Attack  Defense  \\\n",
       "0    1                  Bulbasaur  Grass  Poison  45      49       49   \n",
       "1    2                    Ivysaur  Grass  Poison  60      62       63   \n",
       "2    3                   Venusaur  Grass  Poison  80      82       83   \n",
       "3    3      VenusaurMega Venusaur  Grass  Poison  80     100      123   \n",
       "4    4                 Charmander   Fire     NaN  39      52       43   \n",
       "5    5                 Charmeleon   Fire     NaN  58      64       58   \n",
       "6    6                  Charizard   Fire  Flying  78      84       78   \n",
       "7    6  CharizardMega Charizard X   Fire  Dragon  78     130      111   \n",
       "8    6  CharizardMega Charizard Y   Fire  Flying  78     104       78   \n",
       "9    7                   Squirtle  Water     NaN  44      48       65   \n",
       "10   8                  Wartortle  Water     NaN  59      63       80   \n",
       "11   9                  Blastoise  Water     NaN  79      83      100   \n",
       "12   9    BlastoiseMega Blastoise  Water     NaN  79     103      120   \n",
       "13  10                   Caterpie    Bug     NaN  45      30       35   \n",
       "14  11                    Metapod    Bug     NaN  50      20       55   \n",
       "\n",
       "    Sp. Atk  Sp. Def  Speed  Generation  Legendary  Total  \n",
       "0        65       65     45           1      False    318  \n",
       "1        80       80     60           1      False    405  \n",
       "2       100      100     80           1      False    525  \n",
       "3       122      120     80           1      False    625  \n",
       "4        60       50     65           1      False    309  \n",
       "5        80       65     80           1      False    405  \n",
       "6       109       85    100           1      False    534  \n",
       "7       130       85    100           1      False    634  \n",
       "8       159      115    100           1      False    634  \n",
       "9        50       64     43           1      False    314  \n",
       "10       65       80     58           1      False    405  \n",
       "11       85      105     78           1      False    530  \n",
       "12      135      115     78           1      False    630  \n",
       "13       20       20     45           1      False    195  \n",
       "14       25       25     30           1      False    205  "
      ]
     },
     "execution_count": 54,
     "metadata": {},
     "output_type": "execute_result"
    }
   ],
   "source": [
    "import pandas as pd\n",
    "df1 = pd.read_csv('modified.csv')\n",
    "df1.head(15)\n",
    "# avarage of the type data\n",
    "# df1.groupby(['Type 1']).mean()\n",
    "\n",
    "# sorting the values\n",
    "# df1.groupby(['Type 1']).mean().sort_values('Defense', ascending=False)\n"
   ]
  },
  {
   "cell_type": "code",
   "execution_count": 36,
   "metadata": {},
   "outputs": [
    {
     "data": {
      "text/plain": [
       "[1, 2, 3, 4, 5, 6, 7]"
      ]
     },
     "execution_count": 36,
     "metadata": {},
     "output_type": "execute_result"
    }
   ],
   "source": [
    "range(1,8)\n",
    "list(range(1,8))"
   ]
  },
  {
   "cell_type": "code",
   "execution_count": 16,
   "metadata": {},
   "outputs": [
    {
     "name": "stdout",
     "output_type": "stream",
     "text": [
      "28\n"
     ]
    }
   ],
   "source": [
    "# range(1,8) means all numbers from 1 till 7\n",
    "\n",
    "list = range(1, 8)\n",
    "sum_list = 0\n",
    "for values in list:\n",
    "    sum_list = sum_list + values\n",
    "print(sum_list)"
   ]
  },
  {
   "cell_type": "markdown",
   "metadata": {},
   "source": [
    "# <font color =\"green\"> for  loop and if statement (using modula operator (%))</font>"
   ]
  },
  {
   "cell_type": "code",
   "execution_count": 32,
   "metadata": {},
   "outputs": [
    {
     "name": "stdout",
     "output_type": "stream",
     "text": [
      "108\n"
     ]
    }
   ],
   "source": [
    "# Sum of the numbers divisible by 3 (from 1 t0 24)\n",
    "\n",
    "list = range(1, 25)\n",
    "sum_list = 0\n",
    "for values in list:\n",
    "    if values % 3 == 0:\n",
    "        sum_list = sum_list + values\n",
    "print(sum_list)\n",
    "\n",
    "# (i.e 3+6+9+12+15+18+21+24 = 108)"
   ]
  },
  {
   "cell_type": "code",
   "execution_count": 41,
   "metadata": {},
   "outputs": [
    {
     "name": "stdout",
     "output_type": "stream",
     "text": [
      "158\n"
     ]
    }
   ],
   "source": [
    "# sum of the multiple/divisible by 3 and 5  between (1 to 100)\n",
    "\n",
    "list = range(1, 25)\n",
    "sum_list = 0\n",
    "for values in list:\n",
    "    if values % 3 == 0:\n",
    "        sum_list = sum_list +values\n",
    "    if values % 5 == 0:\n",
    "        sum_list = sum_list +values                      \n",
    "print(sum_list)"
   ]
  },
  {
   "cell_type": "code",
   "execution_count": 3,
   "metadata": {},
   "outputs": [
    {
     "name": "stdout",
     "output_type": "stream",
     "text": [
      "100\n"
     ]
    }
   ],
   "source": [
    "# showing how boolean values function\n",
    "if 1==1:\n",
    "    print(100)"
   ]
  },
  {
   "cell_type": "markdown",
   "metadata": {},
   "source": [
    "# <font color=\"green\"> \"Using append and extraction of data from a file\"</font>"
   ]
  },
  {
   "cell_type": "code",
   "execution_count": 19,
   "metadata": {},
   "outputs": [
    {
     "name": "stdout",
     "output_type": "stream",
     "text": [
      "['Facebook', 'Instagram', 'Spotify']\n"
     ]
    }
   ],
   "source": [
    "app_and_price = (['Facebook', 0], ['Instagram', 0], ['Whatsapp', 2.6], ['Tinder', 356], ['Spotify', 0], ['skype', 246])\n",
    "\n",
    "free_apps = []\n",
    "for app in app_and_price:\n",
    "    name = app[0]\n",
    "    price = app[1]\n",
    "    if price == 0:\n",
    "        free_apps.append(name)\n",
    "        \n",
    "print(free_apps)    "
   ]
  },
  {
   "cell_type": "code",
   "execution_count": 33,
   "metadata": {},
   "outputs": [
    {
     "name": "stdout",
     "output_type": "stream",
     "text": [
      "False\n"
     ]
    }
   ],
   "source": [
    "app_name = 'Global dating'\n",
    "app_price = 35.7\n",
    "\n",
    "if app_price < 30:\n",
    "    print('this app is cheap!')\n",
    "    \n",
    "print(app_price < 30)"
   ]
  },
  {
   "cell_type": "code",
   "execution_count": 45,
   "metadata": {},
   "outputs": [
    {
     "name": "stdout",
     "output_type": "stream",
     "text": [
      "(['Call of duty zombies', 4.0, 'non free'], ['Facebook', 0.0, 'free'], ['Instagram', 0.0, 'free'], ['Spotify', 0.0, 'free'])\n"
     ]
    }
   ],
   "source": [
    "apps_data = (['Call of duty zombies', 4.0], ['Facebook', 0.0], ['Instagram', 0.0], ['Spotify', 0.0])\n",
    "\n",
    "for apps in apps_data:\n",
    "    price = apps[1]\n",
    "    if price == 0.0:\n",
    "        apps.append('free')\n",
    "    if price != 0.0:\n",
    "        apps.append('non free')\n",
    "        \n",
    "# short/fast form or writing it       \n",
    "# else:\n",
    "# append('non free') \n",
    "        \n",
    "print(apps_data)"
   ]
  },
  {
   "cell_type": "code",
   "execution_count": null,
   "metadata": {},
   "outputs": [],
   "source": [
    "content_ratings = ['4+', '9+', '12+', '17+']\n",
    "numbers = [4433, 987, 1155, 622]\n",
    "content_rating_numbers = (['4+', '9+', '12+', '17+'], ['4+', '9+', '12+', '17+'])\n"
   ]
  },
  {
   "cell_type": "code",
   "execution_count": 55,
   "metadata": {},
   "outputs": [
    {
     "name": "stdout",
     "output_type": "stream",
     "text": [
      "{'4+': 4433, '9+': 987, '12+': 1155, '17+': 622}\n"
     ]
    }
   ],
   "source": [
    "content_rating ={'4+': 4433, '9+': 987, '12+': 1155, '17+': 622}\n",
    "print(content_rating)\n"
   ]
  },
  {
   "cell_type": "code",
   "execution_count": 57,
   "metadata": {},
   "outputs": [
    {
     "name": "stdout",
     "output_type": "stream",
     "text": [
      "4433\n",
      "622\n"
     ]
    }
   ],
   "source": [
    "print(content_rating['4+'])\n",
    "print(content_rating['17+'])"
   ]
  },
  {
   "cell_type": "markdown",
   "metadata": {},
   "source": [
    "# <font color=\"green\"> square of a number</font>"
   ]
  },
  {
   "cell_type": "code",
   "execution_count": 64,
   "metadata": {},
   "outputs": [
    {
     "name": "stdout",
     "output_type": "stream",
     "text": [
      "36\n",
      "16\n",
      "81\n"
     ]
    }
   ],
   "source": [
    "def square(a_number):\n",
    "    squared_number = a_number * a_number\n",
    "    return squared_number\n",
    "    \n",
    "square_6 = square(a_number = 6)\n",
    "square_4 = square(a_number = 4)\n",
    "square_9 = square(a_number = 9)\n",
    "\n",
    "print(square_6)\n",
    "print(square_4)\n",
    "print(square_9)"
   ]
  },
  {
   "cell_type": "code",
   "execution_count": 73,
   "metadata": {},
   "outputs": [
    {
     "name": "stdout",
     "output_type": "stream",
     "text": [
      "49\n"
     ]
    }
   ],
   "source": [
    "# Alternative way of writing the square of number\n",
    "square(a_number =7)\n",
    "def square(a_number=7):\n",
    "        squared_number = 7*7\n",
    "        return squared_number\n",
    "    \n",
    "print(square(a_number = 7))"
   ]
  }
 ],
 "metadata": {
  "kernelspec": {
   "display_name": "Python 3",
   "language": "python",
   "name": "python3"
  },
  "language_info": {
   "codemirror_mode": {
    "name": "ipython",
    "version": 3
   },
   "file_extension": ".py",
   "mimetype": "text/x-python",
   "name": "python",
   "nbconvert_exporter": "python",
   "pygments_lexer": "ipython3",
   "version": "3.6.4"
  }
 },
 "nbformat": 4,
 "nbformat_minor": 2
}
